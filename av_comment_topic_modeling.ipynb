{
 "cells": [
  {
   "cell_type": "code",
   "execution_count": 1,
   "metadata": {
    "collapsed": true
   },
   "outputs": [],
   "source": [
    "import pandas as pd"
   ]
  },
  {
   "cell_type": "markdown",
   "metadata": {},
   "source": [
    "# Load data"
   ]
  },
  {
   "cell_type": "code",
   "execution_count": 2,
   "metadata": {},
   "outputs": [
    {
     "name": "stdout",
     "output_type": "stream",
     "text": [
      "(1608, 32)\n",
      "Index(['age', 'av_disclose_performance', 'av_reduce_injuries',\n",
      "       'av_report_safety', 'av_school_zone', 'av_share_data', 'av_speed_limit',\n",
      "       'av_two_drivers', 'bikegph_member', 'bikepgh_position',\n",
      "       'bikepgh_should_advocate', 'elaborate_bikepgh_position', 'end_date',\n",
      "       'familiar_av_tech', 'feel_safe_avs', 'feel_safe_cars',\n",
      "       'herzberg_death_change_opinion', 'interacted_av_biking',\n",
      "       'interacted_av_walking', 'interaction_details',\n",
      "       'negative_av_interaction', 'other_av_regulations', 'other_comments',\n",
      "       'own_car', 'own_smartphone', 'paying_attention_av_news',\n",
      "       'positive_av_interaction', 'regulate_av_testing', 'start_date',\n",
      "       'thoughts_pgh_av_testing', 'year', 'zipcode'],\n",
      "      dtype='object')\n"
     ]
    }
   ],
   "source": [
    "data_fpath = '../av_survey_data/bikepgh_av_survey.csv'\n",
    "data = pd.read_csv(data_fpath, index_col=0)\n",
    "print(data.shape)\n",
    "print(data.columns)"
   ]
  },
  {
   "cell_type": "markdown",
   "metadata": {},
   "source": [
    "# Get open-ended comments"
   ]
  },
  {
   "cell_type": "code",
   "execution_count": 3,
   "metadata": {},
   "outputs": [
    {
     "name": "stdout",
     "output_type": "stream",
     "text": [
      "interaction_details: 943\n",
      "positive_av_interaction: 439\n",
      "negative_av_interaction: 328\n",
      "other_av_regulations: 521\n",
      "elaborate_bikepgh_position: 507\n",
      "other_comments: 637\n"
     ]
    }
   ],
   "source": [
    "text_colnames = [\n",
    "    'interaction_details',\n",
    "    'positive_av_interaction',\n",
    "    'negative_av_interaction',\n",
    "    'other_av_regulations',\n",
    "    'elaborate_bikepgh_position',\n",
    "    'other_comments',\n",
    "                ]\n",
    "\n",
    "for colname in text_colnames:\n",
    "    print(f'{colname}: {data[colname].count()}')"
   ]
  },
  {
   "cell_type": "markdown",
   "metadata": {},
   "source": [
    "## How many words per comment? How many total words for each text column?"
   ]
  },
  {
   "cell_type": "code",
   "execution_count": 4,
   "metadata": {
    "scrolled": true
   },
   "outputs": [
    {
     "name": "stdout",
     "output_type": "stream",
     "text": [
      "interaction_details:\n",
      "\ttotal words: 21180\n",
      "\tavg words: 22.460233297985155\n",
      "\n",
      "positive_av_interaction:\n",
      "\ttotal words: 5512\n",
      "\tavg words: 12.555808656036447\n",
      "\n",
      "negative_av_interaction:\n",
      "\ttotal words: 3650\n",
      "\tavg words: 11.128048780487806\n",
      "\n",
      "other_av_regulations:\n",
      "\ttotal words: 9482\n",
      "\tavg words: 18.19961612284069\n",
      "\n",
      "elaborate_bikepgh_position:\n",
      "\ttotal words: 22254\n",
      "\tavg words: 43.89349112426036\n",
      "\n",
      "other_comments:\n",
      "\ttotal words: 20497\n",
      "\tavg words: 32.17739403453689\n",
      "\n"
     ]
    }
   ],
   "source": [
    "preprocessed = {}\n",
    "\n",
    "for colname in text_colnames:\n",
    "    preprocessed[colname] = data[colname].str.split().apply(lambda d: d if isinstance(d, list) else []) # whitespace tokenization\n",
    "    total_words = sum([len(row) for row in preprocessed[colname].tolist()])\n",
    "    avg_words = total_words/data[colname].count()\n",
    "    print(f'{colname}:')\n",
    "    print(f'\\ttotal words: {total_words}')\n",
    "    print(f'\\tavg words: {avg_words}')\n",
    "    print()"
   ]
  },
  {
   "cell_type": "markdown",
   "metadata": {},
   "source": [
    "# Learn topics"
   ]
  },
  {
   "cell_type": "code",
   "execution_count": 104,
   "metadata": {},
   "outputs": [
    {
     "name": "stdout",
     "output_type": "stream",
     "text": [
      "Filtered to 943 entries\n",
      "Found 1932 unique words\n"
     ]
    }
   ],
   "source": [
    "from gensim.corpora.dictionary import Dictionary\n",
    "from gensim.models.ldamodel import LdaModel\n",
    "from gensim.utils import tokenize\n",
    "from gensim.parsing.preprocessing import remove_stopwords\n",
    "\n",
    "colname = 'interaction_details'\n",
    "filtered_data = data[data[colname].map(lambda x: isinstance(x, str))].copy()\n",
    "print(f\"Filtered to {len(filtered_data)} entries\")\n",
    "docs = filtered_data[colname].tolist()\n",
    "tokenized_docs = [list(tokenize(remove_stopwords(doc.lower()))) for doc in docs]\n",
    "\n",
    "dictionary = Dictionary(tokenized_docs)\n",
    "print(f\"Found {len(dictionary.token2id)} unique words\")\n",
    "\n",
    "corpus = [dictionary.doc2bow(doc) for doc in tokenized_docs]\n",
    "\n",
    "lda = LdaModel(corpus, id2word=dictionary, num_topics=10)"
   ]
  },
  {
   "cell_type": "markdown",
   "metadata": {},
   "source": [
    "# Print top words/topic"
   ]
  },
  {
   "cell_type": "code",
   "execution_count": 95,
   "metadata": {
    "scrolled": true
   },
   "outputs": [
    {
     "data": {
      "text/plain": [
       "[(0,\n",
       "  '0.022*\"av\" + 0.020*\"vehicle\" + 0.015*\"i\" + 0.015*\"avs\" + 0.011*\"ve\" + 0.009*\"human\" + 0.009*\"safer\" + 0.009*\"streets\" + 0.008*\"road\" + 0.008*\"drivers\"'),\n",
       " (1,\n",
       "  '0.018*\"speed\" + 0.016*\"av\" + 0.015*\"human\" + 0.014*\"drivers\" + 0.012*\"limit\" + 0.012*\"avs\" + 0.012*\"t\" + 0.012*\"i\" + 0.012*\"cars\" + 0.010*\"vehicle\"'),\n",
       " (2,\n",
       "  '0.018*\"notable\" + 0.018*\"av\" + 0.018*\"vehicles\" + 0.017*\"vehicle\" + 0.016*\"t\" + 0.011*\"autonomous\" + 0.011*\"i\" + 0.010*\"strip\" + 0.009*\"ordinary\" + 0.009*\"stop\"'),\n",
       " (3,\n",
       "  '0.021*\"av\" + 0.015*\"vehicle\" + 0.014*\"issues\" + 0.012*\"stopped\" + 0.011*\"vehicles\" + 0.011*\"street\" + 0.011*\"lane\" + 0.011*\"passed\" + 0.011*\"bike\" + 0.010*\"driving\"'),\n",
       " (4,\n",
       "  '0.026*\"car\" + 0.025*\"av\" + 0.023*\"normal\" + 0.014*\"notable\" + 0.013*\"like\" + 0.012*\"avs\" + 0.010*\"autonomous\" + 0.009*\"vehicle\" + 0.009*\"t\" + 0.009*\"vehicles\"'),\n",
       " (5,\n",
       "  '0.014*\"av\" + 0.014*\"bike\" + 0.012*\"s\" + 0.012*\"turn\" + 0.011*\"car\" + 0.011*\"driver\" + 0.011*\"i\" + 0.010*\"t\" + 0.010*\"ve\" + 0.010*\"crosswalk\"'),\n",
       " (6,\n",
       "  '0.025*\"car\" + 0.016*\"t\" + 0.015*\"cars\" + 0.014*\"vehicle\" + 0.014*\"notable\" + 0.014*\"avs\" + 0.014*\"human\" + 0.012*\"drivers\" + 0.010*\"bike\" + 0.010*\"driver\"'),\n",
       " (7,\n",
       "  '0.042*\"av\" + 0.017*\"t\" + 0.013*\"i\" + 0.012*\"stop\" + 0.010*\"bike\" + 0.010*\"me\" + 0.009*\"right\" + 0.008*\"crosswalk\" + 0.008*\"way\" + 0.008*\"s\"'),\n",
       " (8,\n",
       "  '0.023*\"car\" + 0.018*\"av\" + 0.015*\"stop\" + 0.015*\"driver\" + 0.012*\"s\" + 0.011*\"cars\" + 0.011*\"i\" + 0.010*\"vehicle\" + 0.009*\"t\" + 0.009*\"problems\"'),\n",
       " (9,\n",
       "  '0.023*\"human\" + 0.022*\"drivers\" + 0.018*\"cars\" + 0.018*\"driver\" + 0.015*\"car\" + 0.014*\"cross\" + 0.014*\"av\" + 0.014*\"like\" + 0.011*\"stop\" + 0.010*\"t\"')]"
      ]
     },
     "execution_count": 95,
     "metadata": {},
     "output_type": "execute_result"
    }
   ],
   "source": [
    "word_topics = lda.show_topics()\n",
    "word_topics"
   ]
  },
  {
   "cell_type": "markdown",
   "metadata": {},
   "source": [
    "# Print top documents/topic"
   ]
  },
  {
   "cell_type": "code",
   "execution_count": 98,
   "metadata": {
    "collapsed": true
   },
   "outputs": [],
   "source": [
    "def get_top_docs(lda, docs, n_docs=5):\n",
    "    document_topics = [lda.get_document_topics(bow) for bow in corpus]\n",
    "    lines = []\n",
    "    for topic_ind in range(lda.num_topics):\n",
    "#         print(f\"Topic {topic_ind}\")\n",
    "        for doc_ind, dist in sorted(zip(list(range(len(document_topics))), document_topics), reverse=True, key=lambda x: abs(dict(x[1]).get(topic_ind, 0.0)))[:n_docs]:\n",
    "            topic_proportion = dict(dist).get(topic_ind, 0.0)\n",
    "            lines.append([topic_ind, word_topics[topic_ind][1], doc_ind, docs[doc_ind], topic_proportion])\n",
    "#             print(f\"{doc_ind}\\t{topic_proportion}\")\n",
    "\n",
    "    return pd.DataFrame(lines, columns=['topic', 'topic_top_words', 'document_index', 'document', 'topic_proportion'])"
   ]
  },
  {
   "cell_type": "code",
   "execution_count": null,
   "metadata": {},
   "outputs": [],
   "source": [
    "pd.set_option('display.max_colwidth', -1)\n",
    "get_top_docs(lda, docs, n_docs=5)"
   ]
  },
  {
   "cell_type": "code",
   "execution_count": 113,
   "metadata": {
    "collapsed": true,
    "scrolled": true
   },
   "outputs": [],
   "source": [
    "document_topics = [lda.get_document_topics(bow) for bow in corpus]\n",
    "id2index = dict(zip(filtered_data.index, range(len(filtered_data))))\n",
    "\n",
    "# Assign top topics to docs, graph other variables\n",
    "filtered_data['top_topic'] = filtered_data.index.map(lambda x: sorted(document_topics[id2index[x]], key=lambda x: x[1], reverse=True)[0][0])"
   ]
  },
  {
   "cell_type": "code",
   "execution_count": 128,
   "metadata": {},
   "outputs": [
    {
     "data": {
      "text/plain": [
       "<matplotlib.text.Text at 0x7f88416934e0>"
      ]
     },
     "execution_count": 128,
     "metadata": {},
     "output_type": "execute_result"
    },
    {
     "data": {
      "image/png": "[encoded data removed]",
      "text/plain": [
       "<matplotlib.figure.Figure at 0x7f88419c6b38>"
      ]
     },
     "metadata": {},
     "output_type": "display_data"
    }
   ],
   "source": [
    "%matplotlib inline\n",
    "\n",
    "import matplotlib.pyplot as plt\n",
    "\n",
    "topic = 3\n",
    "compared_column = 'feel_safe_avs'\n",
    "topic_data = filtered_data[filtered_data['top_topic']==topic].copy()\n",
    "# print(topic_data[compared_column].value_counts().sort_index())\n",
    "topic_data[compared_column].value_counts().sort_index().plot.bar().set_title(compared_column)"
   ]
  },
  {
   "cell_type": "markdown",
   "metadata": {},
   "source": [
    "Topic 3 seems to report more issues with the AV interactions"
   ]
  },
  {
   "cell_type": "code",
   "execution_count": 142,
   "metadata": {},
   "outputs": [
    {
     "data": {
      "text/plain": [
       "<matplotlib.text.Text at 0x7f88393c3a90>"
      ]
     },
     "execution_count": 142,
     "metadata": {},
     "output_type": "execute_result"
    },
    {
     "data": {
      "image/png": "[encoded data removed]",
      "text/plain": [
       "<matplotlib.figure.Figure at 0x7f88393f5390>"
      ]
     },
     "metadata": {},
     "output_type": "display_data"
    }
   ],
   "source": [
    "%matplotlib inline\n",
    "\n",
    "import matplotlib.pyplot as plt\n",
    "\n",
    "topic = 9\n",
    "compared_column = 'feel_safe_avs'\n",
    "topic_data = filtered_data[filtered_data['top_topic']==topic].copy()\n",
    "# print(topic_data[compared_column].value_counts().sort_index())\n",
    "topic_data[compared_column].value_counts().sort_index().plot.bar().set_title(compared_column)"
   ]
  }
 ],
 "metadata": {
  "kernelspec": {
   "display_name": "Python 3",
   "language": "python",
   "name": "python3"
  },
  "language_info": {
   "codemirror_mode": {
    "name": "ipython",
    "version": 3
   },
   "file_extension": ".py",
   "mimetype": "text/x-python",
   "name": "python",
   "nbconvert_exporter": "python",
   "pygments_lexer": "ipython3",
   "version": "3.6.8"
  }
 },
 "nbformat": 4,
 "nbformat_minor": 2
}
